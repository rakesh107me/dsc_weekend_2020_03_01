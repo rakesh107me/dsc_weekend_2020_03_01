{
 "cells": [
  {
   "cell_type": "code",
   "execution_count": 3,
   "metadata": {},
   "outputs": [
    {
     "name": "stdout",
     "output_type": "stream",
     "text": [
      "enter the 1st number:2\n",
      "enter the 2nd number:3\n",
      "False\n"
     ]
    }
   ],
   "source": [
    "#WAP to input 2 numbers and check whether the first is divisible by the second and print true or false depending on \n",
    "#the divisibility. \n",
    "n1=int(input('enter the 1st number:'))\n",
    "n2=int(input('enter the 2nd number:'))\n",
    "if n1%n2==0:\n",
    "    print('True')\n",
    "else:\n",
    "    print('False')"
   ]
  },
  {
   "cell_type": "code",
   "execution_count": 2,
   "metadata": {},
   "outputs": [
    {
     "name": "stdout",
     "output_type": "stream",
     "text": [
      "Enter the Name : madam\n",
      "madam Not a palindrome\n"
     ]
    }
   ],
   "source": [
    "#In the palindrome example, make the code case insensitive.  i.e. Naman should also be treated as a palindrome \n",
    "#(HINT: first convert to either upper or lower case).\n",
    "name = str(input(\"Enter the Name : \"))\n",
    "A = name[::-1]\n",
    "B = name.upper()\n",
    "if A==B:\n",
    "    print(name,'it is palindrome')\n",
    "else:\n",
    "    print(name,'Not a palindrome')"
   ]
  },
  {
   "cell_type": "code",
   "execution_count": 4,
   "metadata": {},
   "outputs": [
    {
     "name": "stdout",
     "output_type": "stream",
     "text": [
      "enter the 1st side of triangle:2\n",
      "enter the 2nd side of triangle:3\n",
      "enter the 3rd side of triangle:4\n",
      "No sides are equal in the Triangle is called scalene triangle\n"
     ]
    }
   ],
   "source": [
    "#WAP to input the sides of a triangle and \n",
    "#print whether equilateral(all sides equal), isosceles (2 sides equal), or scalene (no sides equal).\n",
    "S1=int(input('enter the 1st side of triangle:'))\n",
    "S2=int(input('enter the 2nd side of triangle:'))\n",
    "S3=int(input('enter the 3rd side of triangle:'))\n",
    "if S1==S2 and S2==S3 and S3==S1:\n",
    "    print('all sides are equal in the Triangle is called equilateral triangle')\n",
    "elif S1==S2 or S2==S3 or S3==S1:\n",
    "    print('2 sides are equal in the Triangle is called isosceles triangle')\n",
    "else:\n",
    "    print('No sides are equal in the Triangle is called scalene triangle')"
   ]
  },
  {
   "cell_type": "code",
   "execution_count": 5,
   "metadata": {},
   "outputs": [
    {
     "name": "stdout",
     "output_type": "stream",
     "text": [
      "enter a number2\n",
      "even\n"
     ]
    }
   ],
   "source": [
    "#WAP to input a number and print if it is even or odd.\n",
    "a=int(input('enter a number'))\n",
    "if a%2==0:\n",
    "    print('even')\n",
    "else:\n",
    "    print(\"odd\")"
   ]
  },
  {
   "cell_type": "code",
   "execution_count": 6,
   "metadata": {},
   "outputs": [
    {
     "name": "stdout",
     "output_type": "stream",
     "text": [
      "Enter the age:101\n",
      "contratulations\n"
     ]
    }
   ],
   "source": [
    "#WAP to input age and print the respective text  \n",
    "#depending on the age ranges as present in the table.\n",
    "a=int(input('Enter the age:'))\n",
    "if a>=0 and a<=12:\n",
    "    print('child:')\n",
    "elif a>=13 and a<=17:\n",
    "    print('Teen:')\n",
    "elif a>=18 and a<=50:\n",
    "    print('Adult:')\n",
    "elif a>=51 and a<=100:\n",
    "    print('senior citizen:')\n",
    "elif a>100:\n",
    "    print('contratulations')\n"
   ]
  },
  {
   "cell_type": "code",
   "execution_count": 7,
   "metadata": {},
   "outputs": [
    {
     "name": "stdout",
     "output_type": "stream",
     "text": [
      "Enter the year :2004\n",
      "Year is the Leap year\n"
     ]
    }
   ],
   "source": [
    "#WAP to input year (check if user enters valid year. Should be 4-digit number and should not be negative) \n",
    "#and print whether leap year or not. (If really interested in why you also have to check the divisibility by 400 just \n",
    "#google the exact time it takes for the earth to revolve around the sun)\n",
    "\n",
    "year = int(input('Enter the year :'))\n",
    "if year % 4 == 0:\n",
    "    if year % 100 == 0:\n",
    "        if year % 400 == 0:\n",
    "            print('Year is the Leap Year')\n",
    "        else:\n",
    "            print('Year is not a Leap Year')\n",
    "    else:\n",
    "        print('Year is the Leap year')\n",
    "else:\n",
    "    print('Year is not a Leap Year')\n",
    "\n",
    "\n"
   ]
  },
  {
   "cell_type": "code",
   "execution_count": 18,
   "metadata": {},
   "outputs": [
    {
     "name": "stdout",
     "output_type": "stream",
     "text": [
      "Enter the characters:RAKESH\n",
      "number is even\n",
      "rakesh\n"
     ]
    }
   ],
   "source": [
    "#WAP to input a string and convert it to Upper Case if number of characters is odd and convert to lower case otherwise. \n",
    "a=str(input('Enter the characters:'))\n",
    "L=len(a)\n",
    "if L%2==0:\n",
    "    print('number is even')\n",
    "    print(a.lower())\n",
    "else:\n",
    "    print('number is odd')\n",
    "    print(a.upper())\n",
    "    \n"
   ]
  },
  {
   "cell_type": "code",
   "execution_count": 7,
   "metadata": {},
   "outputs": [
    {
     "name": "stdout",
     "output_type": "stream",
     "text": [
      "enter the word:After your workout take two eggs\n",
      "Non-veg\n"
     ]
    }
   ],
   "source": [
    "#WAP to input a string and print Veg if the string doesn’t contain the word egg. \n",
    "#otherwise print Non-Veg. As usual eggs can be both big and small. \n",
    "s=str(input('enter the word:'))\n",
    "a=s.lower() #the meaning eggs can be both big and small\n",
    "b='egg'\n",
    "if b in a:\n",
    "    print('Non-veg')\n",
    "else:\n",
    "    print('veg')\n",
    "\n"
   ]
  },
  {
   "cell_type": "code",
   "execution_count": 9,
   "metadata": {},
   "outputs": [
    {
     "name": "stdout",
     "output_type": "stream",
     "text": [
      "True\n"
     ]
    }
   ],
   "source": [
    "#Give output of\n",
    "if not 1:\n",
    "    print('False')\n",
    "else:\n",
    "    print('True')\n",
    "\n"
   ]
  },
  {
   "cell_type": "code",
   "execution_count": 10,
   "metadata": {},
   "outputs": [
    {
     "name": "stdout",
     "output_type": "stream",
     "text": [
      "True\n"
     ]
    }
   ],
   "source": [
    "if 1:\n",
    "    print('True')\n",
    "else:\n",
    "    print('False')"
   ]
  },
  {
   "cell_type": "code",
   "execution_count": 11,
   "metadata": {},
   "outputs": [
    {
     "name": "stdout",
     "output_type": "stream",
     "text": [
      "weird !!\n"
     ]
    }
   ],
   "source": [
    "if 'a'>'A':\n",
    "    print('weird !!')\n",
    "else:\n",
    "    print('Makes Sense')"
   ]
  },
  {
   "cell_type": "code",
   "execution_count": 12,
   "metadata": {},
   "outputs": [
    {
     "name": "stdout",
     "output_type": "stream",
     "text": [
      "[4, 3, 2, 1]\n"
     ]
    }
   ],
   "source": [
    "a=[1,2,3,4]\n",
    "if 1>1:\n",
    "    a=a[::-1]\n",
    "else:\n",
    "    a=a[-1::-1]\n",
    "print(a)"
   ]
  },
  {
   "cell_type": "code",
   "execution_count": 15,
   "metadata": {},
   "outputs": [
    {
     "name": "stdout",
     "output_type": "stream",
     "text": [
      "Enter the marks sbu1:90\n",
      "Enter the marks sbu2:93\n",
      "Enter the marks sbu3:93\n",
      "Enter the marks sbu4:95\n",
      "Enter the marks sbu5:96\n",
      "Grade-A: 93.4\n"
     ]
    }
   ],
   "source": [
    "#WAP to input marks in 5 subjects and print the grade as per following logic:\n",
    "m1=int(input('Enter the marks sbu1:'))\n",
    "m2=int(input('Enter the marks sbu2:'))\n",
    "m3=int(input('Enter the marks sbu3:'))\n",
    "m4=int(input('Enter the marks sbu4:'))\n",
    "m5=int(input('Enter the marks sbu5:'))\n",
    "sum=(m1+m2+m3+m4+m5)/500\n",
    "per=sum*100\n",
    "if per>=90 and per<=100:\n",
    "    print('Grade-A:',per)\n",
    "elif per>=80 and per<=89:\n",
    "    print('Grade-B:',per)\n",
    "elif per>=60 and per<=79:\n",
    "    print('Grade-C:',per)\n",
    "elif per<60:\n",
    "    print('Grade-D:',per)\n",
    "else:\n",
    "    print('Grade-F:',per)\n",
    "\n"
   ]
  },
  {
   "cell_type": "code",
   "execution_count": 20,
   "metadata": {},
   "outputs": [
    {
     "name": "stdout",
     "output_type": "stream",
     "text": [
      "enter the age:65\n",
      "enter the sal:890000\n",
      "per of tax: 71200.0\n"
     ]
    }
   ],
   "source": [
    "#WAP to input age and salary and calculate Tax as per tax rates if following table:\n",
    "age=int(input('enter the age:'))\n",
    "sal=int(input('enter the sal:'))\n",
    "if age<60:\n",
    "    if sal<=250000:\n",
    "        tax=0*sal\n",
    "        print('per of tax:',tax)\n",
    "    elif sal>=250001 and sal<=500000:\n",
    "        tax=sal*0.05\n",
    "        print('per of tax:',tax)\n",
    "    elif sal>=500001 and sal<=1000000:\n",
    "        tax=sal*0.1\n",
    "        print('per of tax:',tax)\n",
    "    elif sal>=1000001:\n",
    "        tax=sal*0.15\n",
    "        print('per of tax:',tax)\n",
    "elif age >= 60:\n",
    "    if sal<=250000:\n",
    "        tax=0*sal\n",
    "        print('per of tax:',tax)\n",
    "    elif sal>=250001 and sal<=500000:\n",
    "        tax=sal*0.03\n",
    "        print('per of tax:',tax)\n",
    "    elif sal>=500001 and sal<=1000000:\n",
    "        tax=sal*0.08\n",
    "        print('per of tax:',tax)\n",
    "    elif sal>=1000001:\n",
    "        tax=sal*0.12\n",
    "        print('per of tax:',tax)\n",
    "        \n"
   ]
  },
  {
   "cell_type": "code",
   "execution_count": 21,
   "metadata": {},
   "outputs": [
    {
     "name": "stdout",
     "output_type": "stream",
     "text": [
      "10\n"
     ]
    }
   ],
   "source": [
    "#Try each of the below statements separately \n",
    "#(remember difference between statement and expression) on the python interpreter and guess the output before trying\n",
    "print( 20 if not 1== 1 else 10)"
   ]
  },
  {
   "cell_type": "code",
   "execution_count": 24,
   "metadata": {},
   "outputs": [
    {
     "name": "stdout",
     "output_type": "stream",
     "text": [
      "10\n"
     ]
    }
   ],
   "source": [
    "print(30 if not 1 == 1 else 20 if 'a' < 'A' else 10)"
   ]
  },
  {
   "cell_type": "code",
   "execution_count": 25,
   "metadata": {},
   "outputs": [
    {
     "name": "stdout",
     "output_type": "stream",
     "text": [
      "10\n"
     ]
    }
   ],
   "source": [
    "print(40 if not 1==1 else 30 if 'a'<'A' else 20 if '' else 10)"
   ]
  },
  {
   "cell_type": "code",
   "execution_count": 26,
   "metadata": {},
   "outputs": [
    {
     "name": "stdout",
     "output_type": "stream",
     "text": [
      "omg\n"
     ]
    }
   ],
   "source": [
    "print('No' if not 1 == 1 else ('No' if 'a' < 'A' else ('omg' if 'oh!!' else 'No')))"
   ]
  },
  {
   "cell_type": "code",
   "execution_count": 3,
   "metadata": {},
   "outputs": [
    {
     "name": "stdout",
     "output_type": "stream",
     "text": [
      "enter the height in m:1.75\n",
      "enter the weight in kg:78\n",
      "over weight at obese: 25.46938775510204\n"
     ]
    }
   ],
   "source": [
    "#WAP: bmi() that takes the weight in kg and height in cm of a person, calculates and returns the BMI.\n",
    "#Write code that calls this function after taking height and weight as inputs and then \n",
    "#prints underweight, normal, overweight or obese depending on the value of BMI. \n",
    "#Refer this link for the ranges:https://en.wikipedia.org/wiki/Body_mass_index\n",
    "h=float(input('enter the height in m:'))\n",
    "w=float(input('enter the weight in kg:'))\n",
    "bmi=w/(h**2)\n",
    "if bmi<=18.5:\n",
    "    print('under weight:',bmi)\n",
    "elif bmi>18.5 and bmi<=23:\n",
    "    print('normal weight:',bmi)\n",
    "elif bmi>23 and bmi<=25:\n",
    "    print('over weight at risk:',bmi)\n",
    "elif bmi>25 and bmi<=30:\n",
    "    print('over weight at obese:',bmi)\n",
    "elif bmi>30:\n",
    "    print('over weight at severly obese',bmi)\n",
    "else:\n",
    "    print('lif is done',bmi)\n",
    "\n"
   ]
  },
  {
   "cell_type": "code",
   "execution_count": 7,
   "metadata": {},
   "outputs": [
    {
     "name": "stdout",
     "output_type": "stream",
     "text": [
      "enter the age of 1st person:19\n",
      "enter the age of 2nd person:24\n",
      "enter the age of 3rd person:29\n",
      "youngest: 19 years\n",
      "oldest: 24 years\n",
      "oldest: 29 years\n"
     ]
    }
   ],
   "source": [
    "#Take input of age of 3 people by user and determine oldest and youngest among them.\n",
    "a1=int(input('enter the age of 1st person:'))\n",
    "a2=int(input('enter the age of 2nd person:'))\n",
    "a3=int(input('enter the age of 3rd person:'))\n",
    "for age in a1,a2,a3:\n",
    "    if age>=20:\n",
    "        print(\"oldest:\",age,\"years\")\n",
    "    else:\n",
    "        print(\"youngest:\",age,\"years\")\n",
    "\n"
   ]
  },
  {
   "cell_type": "code",
   "execution_count": 15,
   "metadata": {},
   "outputs": [
    {
     "name": "stdout",
     "output_type": "stream",
     "text": [
      "Enter the number:63\n",
      "invild number: 63\n"
     ]
    }
   ],
   "source": [
    "#WAP to input a number and check if number is divisible by both 5 and 7.\n",
    "n=int(input('Enter the number:'))\n",
    "if n%5==0 and n%7==0:\n",
    "    print(\"the number divisible by both 5 and 7:\",n)\n",
    "else:\n",
    "    print(\"invild number:\",n)\n",
    "    "
   ]
  },
  {
   "cell_type": "code",
   "execution_count": null,
   "metadata": {},
   "outputs": [],
   "source": []
  },
  {
   "cell_type": "code",
   "execution_count": null,
   "metadata": {},
   "outputs": [],
   "source": [
    "\n",
    "\n",
    "\n",
    "\n",
    "\n"
   ]
  }
 ],
 "metadata": {
  "kernelspec": {
   "display_name": "Python 3",
   "language": "python",
   "name": "python3"
  },
  "language_info": {
   "codemirror_mode": {
    "name": "ipython",
    "version": 3
   },
   "file_extension": ".py",
   "mimetype": "text/x-python",
   "name": "python",
   "nbconvert_exporter": "python",
   "pygments_lexer": "ipython3",
   "version": "3.7.4"
  }
 },
 "nbformat": 4,
 "nbformat_minor": 2
}

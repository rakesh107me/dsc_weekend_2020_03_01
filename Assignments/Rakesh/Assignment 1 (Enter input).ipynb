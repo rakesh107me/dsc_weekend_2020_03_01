{
 "cells": [
  {
   "cell_type": "code",
   "execution_count": 3,
   "metadata": {},
   "outputs": [
    {
     "name": "stdout",
     "output_type": "stream",
     "text": [
      "Enter Temperature in Fahrenheit: 23\n",
      "Temperature in Celsius = -5.0\n"
     ]
    }
   ],
   "source": [
    "#WAP Input temp. in Fahernheit in print in celsius\n",
    "\n",
    "fah = input(\"Enter Temperature in Fahrenheit: \")\n",
    "if fah == 'a':\n",
    "    exit()\n",
    "else:\n",
    "    fahrenheit = float(fah)\n",
    "    celsius = (fahrenheit-32)/1.8\n",
    "    print(\"Temperature in Celsius =\",celsius)"
   ]
  },
  {
   "cell_type": "code",
   "execution_count": 7,
   "metadata": {},
   "outputs": [
    {
     "name": "stdout",
     "output_type": "stream",
     "text": [
      "Enter Temperature in Fahrenheit: 23\n",
      "Temperature in Cel = -5.0\n"
     ]
    }
   ],
   "source": [
    "fah = int(input(\"Enter Temperature in Fahrenheit: \"))\n",
    "cel = (fah-32)/1.8\n",
    "print(\"Temperature in Cel =\",cel)"
   ]
  },
  {
   "cell_type": "code",
   "execution_count": 2,
   "metadata": {},
   "outputs": [
    {
     "name": "stdout",
     "output_type": "stream",
     "text": [
      "enter a number:3\n",
      "9\n",
      "27\n"
     ]
    }
   ],
   "source": [
    "#WAP to input a number and print its square and cube. \n",
    "number=int(input(\"enter a number:\"))\n",
    "number1=pow(number,2)\n",
    "number2=pow(number,3)\n",
    "print(number1)\n",
    "print(number2)"
   ]
  },
  {
   "cell_type": "code",
   "execution_count": 3,
   "metadata": {},
   "outputs": [
    {
     "name": "stdout",
     "output_type": "stream",
     "text": [
      "6\n",
      "6\n",
      "72\n"
     ]
    }
   ],
   "source": [
    "#WAP to input a number n and a number m and print the result of following \n",
    "#n2+m2\n",
    "N = int(input())\n",
    "M = int(input())\n",
    "T = print((N**2) + (M**2))\n",
    "\n"
   ]
  },
  {
   "cell_type": "code",
   "execution_count": 4,
   "metadata": {},
   "outputs": [
    {
     "name": "stdout",
     "output_type": "stream",
     "text": [
      "enter the temperature in fahrenheit:6\n",
      "temperature in celsius= -14.444444444444445\n"
     ]
    }
   ],
   "source": [
    "Fah=int(input(\"enter the temperature in fahrenheit:\"))\n",
    "cel=(Fah-32)/1.8\n",
    "print(\"temperature in celsius=\",cel)"
   ]
  },
  {
   "cell_type": "code",
   "execution_count": 5,
   "metadata": {},
   "outputs": [
    {
     "name": "stdout",
     "output_type": "stream",
     "text": [
      "enter a no.:5\n",
      "enter a no.:8\n",
      "exponent of M and N using **: 390625\n",
      "exponent of M and N using power function:  390625\n"
     ]
    }
   ],
   "source": [
    "M=int(input(\"enter a no.:\"))\n",
    "N=int(input(\"enter a no.:\"))\n",
    "L=M**N\n",
    "K=pow(M,N)\n",
    "print(\"exponent of M and N using **:\",L)\n",
    "print(\"exponent of M and N using power function: \",K)"
   ]
  },
  {
   "cell_type": "code",
   "execution_count": 6,
   "metadata": {},
   "outputs": [
    {
     "name": "stdout",
     "output_type": "stream",
     "text": [
      "6\n",
      "6\n",
      "exponent of M and N using= 46656\n",
      "exponent of M and N using= 46656\n"
     ]
    }
   ],
   "source": [
    "M = int(input())\n",
    "N = int(input())\n",
    "print('exponent of M and N using=',M**N)\n",
    "print('exponent of M and N using=',pow(M, N))"
   ]
  },
  {
   "cell_type": "code",
   "execution_count": 7,
   "metadata": {},
   "outputs": [
    {
     "name": "stdout",
     "output_type": "stream",
     "text": [
      "principal amount:6\n",
      "rate of interest in decimal:6\n",
      "time:6\n",
      "simple interest: 216.0\n"
     ]
    }
   ],
   "source": [
    "P=int(input(\"principal amount:\"))\n",
    "r=float(input(\"rate of interest in decimal:\"))\n",
    "T=int(input(\"time:\"))\n",
    "I=P*r*T\n",
    "print(\"simple interest:\",I)"
   ]
  },
  {
   "cell_type": "code",
   "execution_count": 8,
   "metadata": {},
   "outputs": [
    {
     "name": "stdout",
     "output_type": "stream",
     "text": [
      "Enter principal amount:6\n",
      "Enter rate of interest: 8\n",
      "Time: 9\n",
      "Simple Interest :  4.32\n"
     ]
    }
   ],
   "source": [
    "#Question5:Write a simple interest calculator\n",
    "P = int(input(\"Enter principal amount:\"))\n",
    "R = float(input(\"Enter rate of interest: \"))\n",
    "T = int(input(\"Time: \"))\n",
    "SI = (P*R*T)/100\n",
    "print(\"Simple Interest : \", SI)"
   ]
  },
  {
   "cell_type": "code",
   "execution_count": 11,
   "metadata": {},
   "outputs": [
    {
     "name": "stdout",
     "output_type": "stream",
     "text": [
      "Enter principal amount: 5000\n",
      "Enter interest rate: 0.06\n",
      "Enter the time: 5\n",
      "Enter the compounding frequency:4\n",
      "Total Amount=  5015.018010803238\n",
      "Compound interest=  15.018010803238212\n"
     ]
    }
   ],
   "source": [
    "P = int(input(\"Enter principal amount: \"))\n",
    "R = float(input(\"Enter interest rate: \"))\n",
    "T = int(input(\"Enter the time: \"))\n",
    "n = int(input(\"Enter the compounding frequency:\"))\n",
    "A = P * (1 + R / 100)**(n*T)\n",
    "print(\"Total Amount= \", A)\n",
    "CI = print(\"Compound interest= \", A-P)"
   ]
  },
  {
   "cell_type": "code",
   "execution_count": 14,
   "metadata": {},
   "outputs": [
    {
     "name": "stdout",
     "output_type": "stream",
     "text": [
      "Enter a number: 3\n",
      "6\n"
     ]
    }
   ],
   "source": [
    "n = int(input(\"Enter a number: \"))\n",
    "sum = 0\n",
    "for i in range(0, n+1):\n",
    "    sum += i\n",
    "print(sum)"
   ]
  },
  {
   "cell_type": "code",
   "execution_count": 20,
   "metadata": {},
   "outputs": [
    {
     "name": "stdout",
     "output_type": "stream",
     "text": [
      "Enter a number a : 2\n",
      "Enter a number b : 3\n",
      "a and b swap using temp way:  3 2\n"
     ]
    }
   ],
   "source": [
    "a = int(input(\"Enter a number a : \"))\n",
    "b = int(input(\"Enter a number b : \"))\n",
    "temp = a\n",
    "a = b\n",
    "b=temp\n",
    "print(\"a and b swap using temp way: \", a,b)"
   ]
  },
  {
   "cell_type": "code",
   "execution_count": 19,
   "metadata": {},
   "outputs": [
    {
     "name": "stdout",
     "output_type": "stream",
     "text": [
      "Enter a : 2\n",
      "Enter b : 3\n",
      "a and b swap using pythonic way :  3 2\n"
     ]
    }
   ],
   "source": [
    "a = int(input(\"Enter a : \"))\n",
    "b = int(input(\"Enter b : \"))\n",
    "(a, b) = (b, a)\n",
    "print(\"a and b swap using pythonic way : \", a, b)"
   ]
  },
  {
   "cell_type": "code",
   "execution_count": 28,
   "metadata": {},
   "outputs": [
    {
     "name": "stdout",
     "output_type": "stream",
     "text": [
      "10\n",
      "9\n",
      "97\n",
      "65\n",
      "32\n"
     ]
    }
   ],
   "source": [
    "print(ord('\\n'))\n",
    "print(ord('\\t'))\n",
    "print(ord('a'))\n",
    "print(ord('A'))\n",
    "print(ord(' '))\n",
    "          "
   ]
  },
  {
   "cell_type": "code",
   "execution_count": 31,
   "metadata": {},
   "outputs": [
    {
     "name": "stdout",
     "output_type": "stream",
     "text": [
      "Enter a character: 5\n",
      "53\n"
     ]
    }
   ],
   "source": [
    "character = input(\"Enter a character: \")\n",
    "print(ord(character))"
   ]
  },
  {
   "cell_type": "code",
   "execution_count": null,
   "metadata": {},
   "outputs": [],
   "source": [
    " #WAP that takes area of a circle and gives back the radius and circumference. \n",
    "area=int(input(\"area of a circle:\"))\n",
    "rad=(area/3.142)**(0.5)\n",
    "cir=(2*3.142)*rad\n",
    "print(\"radius of circle=\",rad)\n",
    "print(\"circumference of circle=\",cir)\n"
   ]
  },
  {
   "cell_type": "code",
   "execution_count": 8,
   "metadata": {},
   "outputs": [
    {
     "name": "stdout",
     "output_type": "stream",
     "text": [
      "enter the marks of subject1:88\n",
      "enter the marks of subject2:98\n",
      "enter the marks of subject3:99\n",
      "enter the marks of subject4:99\n",
      "enter the marks of subject5:71\n",
      "Total marks= 455\n",
      "Percentage= 81.39999999999999\n"
     ]
    }
   ],
   "source": [
    "s1=int(input('enter the marks of subject1:'))\n",
    "s2=int(input('enter the marks of subject2:'))\n",
    "s3=int(input('enter the marks of subject3:'))\n",
    "s4=int(input('enter the marks of subject4:'))\n",
    "s5=int(input('enter the marks of subject5:'))\n",
    "\n",
    "Total=s1+s2+s3+s4+s5\n",
    "percentage = (Total/500)*100\n",
    "print('Total marks=',Total)\n",
    "print('Percentage=',Percentage)"
   ]
  },
  {
   "cell_type": "code",
   "execution_count": 5,
   "metadata": {},
   "outputs": [
    {
     "name": "stdout",
     "output_type": "stream",
     "text": [
      "Enter marks of subject1: 88\n",
      "Enter marks of subject2: 88\n",
      "Enter marks of subject3: 99\n",
      "Enter marks of subject4: 77\n",
      "Enter marks of subject5: 55\n",
      "Total Marks:  407\n",
      "Percentage:  81.39999999999999\n"
     ]
    }
   ],
   "source": [
    "#Question12:We need to input marks in 5 subjects out of 100 and print percentage.\n",
    "a1 = int(input(\"Enter marks of subject1: \"))\n",
    "a2 = int(input(\"Enter marks of subject2: \"))\n",
    "a3 = int(input(\"Enter marks of subject3: \"))\n",
    "a4 = int(input(\"Enter marks of subject4: \"))\n",
    "a5 = int(input(\"Enter marks of subject5: \"))\n",
    "\n",
    "Total = a1+a2+a3+a4+a5\n",
    "Percentage = (Total/500)*100\n",
    "print(\"Total Marks: \", Total)\n",
    "print(\"Percentage: \", Percentage)"
   ]
  },
  {
   "cell_type": "code",
   "execution_count": null,
   "metadata": {},
   "outputs": [],
   "source": []
  }
 ],
 "metadata": {
  "kernelspec": {
   "display_name": "Python 3",
   "language": "python",
   "name": "python3"
  },
  "language_info": {
   "codemirror_mode": {
    "name": "ipython",
    "version": 3
   },
   "file_extension": ".py",
   "mimetype": "text/x-python",
   "name": "python",
   "nbconvert_exporter": "python",
   "pygments_lexer": "ipython3",
   "version": "3.7.4"
  }
 },
 "nbformat": 4,
 "nbformat_minor": 2
}
